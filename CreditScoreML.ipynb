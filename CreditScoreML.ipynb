{
  "nbformat": 4,
  "nbformat_minor": 0,
  "metadata": {
    "colab": {
      "provenance": []
    },
    "kernelspec": {
      "name": "python3",
      "display_name": "Python 3"
    },
    "language_info": {
      "name": "python"
    }
  },
  "cells": [
    {
      "cell_type": "code",
      "execution_count": 2,
      "metadata": {
        "colab": {
          "base_uri": "https://localhost:8080/",
          "height": 73
        },
        "id": "LuX-_ZzyoBbN",
        "outputId": "2fcf1521-1600-4438-d46b-8e447b4cd303"
      },
      "outputs": [
        {
          "output_type": "display_data",
          "data": {
            "text/plain": [
              "<IPython.core.display.HTML object>"
            ],
            "text/html": [
              "\n",
              "     <input type=\"file\" id=\"files-15c99bc8-5776-4a1b-b102-b7477ea44e71\" name=\"files[]\" multiple disabled\n",
              "        style=\"border:none\" />\n",
              "     <output id=\"result-15c99bc8-5776-4a1b-b102-b7477ea44e71\">\n",
              "      Upload widget is only available when the cell has been executed in the\n",
              "      current browser session. Please rerun this cell to enable.\n",
              "      </output>\n",
              "      <script>// Copyright 2017 Google LLC\n",
              "//\n",
              "// Licensed under the Apache License, Version 2.0 (the \"License\");\n",
              "// you may not use this file except in compliance with the License.\n",
              "// You may obtain a copy of the License at\n",
              "//\n",
              "//      http://www.apache.org/licenses/LICENSE-2.0\n",
              "//\n",
              "// Unless required by applicable law or agreed to in writing, software\n",
              "// distributed under the License is distributed on an \"AS IS\" BASIS,\n",
              "// WITHOUT WARRANTIES OR CONDITIONS OF ANY KIND, either express or implied.\n",
              "// See the License for the specific language governing permissions and\n",
              "// limitations under the License.\n",
              "\n",
              "/**\n",
              " * @fileoverview Helpers for google.colab Python module.\n",
              " */\n",
              "(function(scope) {\n",
              "function span(text, styleAttributes = {}) {\n",
              "  const element = document.createElement('span');\n",
              "  element.textContent = text;\n",
              "  for (const key of Object.keys(styleAttributes)) {\n",
              "    element.style[key] = styleAttributes[key];\n",
              "  }\n",
              "  return element;\n",
              "}\n",
              "\n",
              "// Max number of bytes which will be uploaded at a time.\n",
              "const MAX_PAYLOAD_SIZE = 100 * 1024;\n",
              "\n",
              "function _uploadFiles(inputId, outputId) {\n",
              "  const steps = uploadFilesStep(inputId, outputId);\n",
              "  const outputElement = document.getElementById(outputId);\n",
              "  // Cache steps on the outputElement to make it available for the next call\n",
              "  // to uploadFilesContinue from Python.\n",
              "  outputElement.steps = steps;\n",
              "\n",
              "  return _uploadFilesContinue(outputId);\n",
              "}\n",
              "\n",
              "// This is roughly an async generator (not supported in the browser yet),\n",
              "// where there are multiple asynchronous steps and the Python side is going\n",
              "// to poll for completion of each step.\n",
              "// This uses a Promise to block the python side on completion of each step,\n",
              "// then passes the result of the previous step as the input to the next step.\n",
              "function _uploadFilesContinue(outputId) {\n",
              "  const outputElement = document.getElementById(outputId);\n",
              "  const steps = outputElement.steps;\n",
              "\n",
              "  const next = steps.next(outputElement.lastPromiseValue);\n",
              "  return Promise.resolve(next.value.promise).then((value) => {\n",
              "    // Cache the last promise value to make it available to the next\n",
              "    // step of the generator.\n",
              "    outputElement.lastPromiseValue = value;\n",
              "    return next.value.response;\n",
              "  });\n",
              "}\n",
              "\n",
              "/**\n",
              " * Generator function which is called between each async step of the upload\n",
              " * process.\n",
              " * @param {string} inputId Element ID of the input file picker element.\n",
              " * @param {string} outputId Element ID of the output display.\n",
              " * @return {!Iterable<!Object>} Iterable of next steps.\n",
              " */\n",
              "function* uploadFilesStep(inputId, outputId) {\n",
              "  const inputElement = document.getElementById(inputId);\n",
              "  inputElement.disabled = false;\n",
              "\n",
              "  const outputElement = document.getElementById(outputId);\n",
              "  outputElement.innerHTML = '';\n",
              "\n",
              "  const pickedPromise = new Promise((resolve) => {\n",
              "    inputElement.addEventListener('change', (e) => {\n",
              "      resolve(e.target.files);\n",
              "    });\n",
              "  });\n",
              "\n",
              "  const cancel = document.createElement('button');\n",
              "  inputElement.parentElement.appendChild(cancel);\n",
              "  cancel.textContent = 'Cancel upload';\n",
              "  const cancelPromise = new Promise((resolve) => {\n",
              "    cancel.onclick = () => {\n",
              "      resolve(null);\n",
              "    };\n",
              "  });\n",
              "\n",
              "  // Wait for the user to pick the files.\n",
              "  const files = yield {\n",
              "    promise: Promise.race([pickedPromise, cancelPromise]),\n",
              "    response: {\n",
              "      action: 'starting',\n",
              "    }\n",
              "  };\n",
              "\n",
              "  cancel.remove();\n",
              "\n",
              "  // Disable the input element since further picks are not allowed.\n",
              "  inputElement.disabled = true;\n",
              "\n",
              "  if (!files) {\n",
              "    return {\n",
              "      response: {\n",
              "        action: 'complete',\n",
              "      }\n",
              "    };\n",
              "  }\n",
              "\n",
              "  for (const file of files) {\n",
              "    const li = document.createElement('li');\n",
              "    li.append(span(file.name, {fontWeight: 'bold'}));\n",
              "    li.append(span(\n",
              "        `(${file.type || 'n/a'}) - ${file.size} bytes, ` +\n",
              "        `last modified: ${\n",
              "            file.lastModifiedDate ? file.lastModifiedDate.toLocaleDateString() :\n",
              "                                    'n/a'} - `));\n",
              "    const percent = span('0% done');\n",
              "    li.appendChild(percent);\n",
              "\n",
              "    outputElement.appendChild(li);\n",
              "\n",
              "    const fileDataPromise = new Promise((resolve) => {\n",
              "      const reader = new FileReader();\n",
              "      reader.onload = (e) => {\n",
              "        resolve(e.target.result);\n",
              "      };\n",
              "      reader.readAsArrayBuffer(file);\n",
              "    });\n",
              "    // Wait for the data to be ready.\n",
              "    let fileData = yield {\n",
              "      promise: fileDataPromise,\n",
              "      response: {\n",
              "        action: 'continue',\n",
              "      }\n",
              "    };\n",
              "\n",
              "    // Use a chunked sending to avoid message size limits. See b/62115660.\n",
              "    let position = 0;\n",
              "    do {\n",
              "      const length = Math.min(fileData.byteLength - position, MAX_PAYLOAD_SIZE);\n",
              "      const chunk = new Uint8Array(fileData, position, length);\n",
              "      position += length;\n",
              "\n",
              "      const base64 = btoa(String.fromCharCode.apply(null, chunk));\n",
              "      yield {\n",
              "        response: {\n",
              "          action: 'append',\n",
              "          file: file.name,\n",
              "          data: base64,\n",
              "        },\n",
              "      };\n",
              "\n",
              "      let percentDone = fileData.byteLength === 0 ?\n",
              "          100 :\n",
              "          Math.round((position / fileData.byteLength) * 100);\n",
              "      percent.textContent = `${percentDone}% done`;\n",
              "\n",
              "    } while (position < fileData.byteLength);\n",
              "  }\n",
              "\n",
              "  // All done.\n",
              "  yield {\n",
              "    response: {\n",
              "      action: 'complete',\n",
              "    }\n",
              "  };\n",
              "}\n",
              "\n",
              "scope.google = scope.google || {};\n",
              "scope.google.colab = scope.google.colab || {};\n",
              "scope.google.colab._files = {\n",
              "  _uploadFiles,\n",
              "  _uploadFilesContinue,\n",
              "};\n",
              "})(self);\n",
              "</script> "
            ]
          },
          "metadata": {}
        },
        {
          "output_type": "stream",
          "name": "stdout",
          "text": [
            "Saving user-wallet-transactions.json to user-wallet-transactions.json\n"
          ]
        }
      ],
      "source": [
        "# Uploading data to colab notebook\n",
        "from google.colab import files\n",
        "u = files.upload()"
      ]
    },
    {
      "cell_type": "code",
      "source": [
        "# Using pandas to load data into dataframe\n",
        "import pandas as pd\n",
        "df = pd.read_json(\"user-wallet-transactions.json\")"
      ],
      "metadata": {
        "id": "xpfSCo8ItTgn"
      },
      "execution_count": 3,
      "outputs": []
    },
    {
      "cell_type": "code",
      "source": [
        "df.head(5)"
      ],
      "metadata": {
        "id": "lbjT8yXKtixE"
      },
      "execution_count": null,
      "outputs": []
    },
    {
      "cell_type": "code",
      "source": [
        "df.info()"
      ],
      "metadata": {
        "colab": {
          "base_uri": "https://localhost:8080/"
        },
        "id": "_SDWlKwZ6NYF",
        "outputId": "08fbd65f-97fc-4292-cc44-72e2e02eef45"
      },
      "execution_count": 17,
      "outputs": [
        {
          "output_type": "stream",
          "name": "stdout",
          "text": [
            "<class 'pandas.core.frame.DataFrame'>\n",
            "RangeIndex: 100000 entries, 0 to 99999\n",
            "Data columns (total 13 columns):\n",
            " #   Column       Non-Null Count   Dtype         \n",
            "---  ------       --------------   -----         \n",
            " 0   _id          100000 non-null  object        \n",
            " 1   userWallet   100000 non-null  object        \n",
            " 2   network      100000 non-null  object        \n",
            " 3   protocol     100000 non-null  object        \n",
            " 4   txHash       100000 non-null  object        \n",
            " 5   logId        100000 non-null  object        \n",
            " 6   timestamp    100000 non-null  datetime64[ns]\n",
            " 7   blockNumber  100000 non-null  int64         \n",
            " 8   action       100000 non-null  object        \n",
            " 9   actionData   100000 non-null  object        \n",
            " 10  __v          100000 non-null  int64         \n",
            " 11  createdAt    100000 non-null  object        \n",
            " 12  updatedAt    100000 non-null  object        \n",
            "dtypes: datetime64[ns](1), int64(2), object(10)\n",
            "memory usage: 9.9+ MB\n"
          ]
        }
      ]
    },
    {
      "cell_type": "code",
      "source": [
        "df.columns"
      ],
      "metadata": {
        "colab": {
          "base_uri": "https://localhost:8080/"
        },
        "id": "-34qo8f36Rge",
        "outputId": "dd38a330-b3c0-418f-89ae-18c5d0bf2e95"
      },
      "execution_count": 18,
      "outputs": [
        {
          "output_type": "execute_result",
          "data": {
            "text/plain": [
              "Index(['_id', 'userWallet', 'network', 'protocol', 'txHash', 'logId',\n",
              "       'timestamp', 'blockNumber', 'action', 'actionData', '__v', 'createdAt',\n",
              "       'updatedAt'],\n",
              "      dtype='object')"
            ]
          },
          "metadata": {},
          "execution_count": 18
        }
      ]
    },
    {
      "cell_type": "code",
      "source": [
        "# Parsing action data if it's a string\n",
        "import ast\n",
        "def safe_parse_action_data(x):\n",
        "    if pd.isnull(x):\n",
        "        return {}\n",
        "    if isinstance(x, str):\n",
        "        try:\n",
        "            return ast.literal_eval(x)\n",
        "        except:\n",
        "            return {}\n",
        "    return x  # already a dict\n",
        "\n",
        "df['actionData'] = df['actionData'].apply(safe_parse_action_data)"
      ],
      "metadata": {
        "id": "cHxvX7hbvGWA"
      },
      "execution_count": 11,
      "outputs": []
    },
    {
      "cell_type": "code",
      "source": [
        "# Feature Engineering by Wallet\n",
        "from tqdm import tqdm\n",
        "\n",
        "wallets = df['userWallet'].unique()\n",
        "rows = []\n",
        "\n",
        "for wallet in tqdm(wallets):\n",
        "    user_df = df[df['userWallet'] == wallet]\n",
        "\n",
        "    total_tx = len(user_df)\n",
        "    deposit_count = 0\n",
        "    borrow_count = 0\n",
        "    repay_count = 0\n",
        "    redeem_count = 0\n",
        "    liquidation_count = 0\n",
        "    total_amount = 0\n",
        "    borrow_amount = 0\n",
        "    repaid_amount = 0\n",
        "\n",
        "    for idx, row in user_df.iterrows():\n",
        "        action = str(row[\"action\"]).lower()\n",
        "        data = row[\"actionData\"]\n",
        "        amount = float(data.get(\"amount\", 0))\n",
        "\n",
        "        total_amount += amount\n",
        "\n",
        "        if action == \"deposit\":\n",
        "            deposit_count += 1\n",
        "        elif action == \"borrow\":\n",
        "            borrow_count += 1\n",
        "            borrow_amount += amount\n",
        "        elif action == \"repay\":\n",
        "            repay_count += 1\n",
        "            repaid_amount += amount\n",
        "        elif action == \"redeemunderlying\":\n",
        "            redeem_count += 1\n",
        "        elif action == \"liquidationcall\":\n",
        "            liquidation_count += 1\n",
        "\n",
        "    rows.append({\n",
        "        \"wallet\": wallet,\n",
        "        \"total_tx\": total_tx,\n",
        "        \"deposit_count\": deposit_count,\n",
        "        \"borrow_count\": borrow_count,\n",
        "        \"repay_count\": repay_count,\n",
        "        \"redeem_count\": redeem_count,\n",
        "        \"liquidation_count\": liquidation_count,\n",
        "        \"total_amount\": total_amount,\n",
        "        \"borrow_amount\": borrow_amount,\n",
        "        \"repaid_amount\": repaid_amount\n",
        "    })\n",
        "\n",
        "wallet_df = pd.DataFrame(rows)\n",
        "wallet_df.head()"
      ],
      "metadata": {
        "id": "y3OFqV4_1tbk"
      },
      "execution_count": null,
      "outputs": []
    },
    {
      "cell_type": "code",
      "source": [
        "# Calculating sand assigning credit score\n",
        "from sklearn.preprocessing import MinMaxScaler\n",
        "import numpy as np\n",
        "\n",
        "# Avoid divide-by-zero\n",
        "wallet_df[\"repay_ratio\"] = wallet_df[\"repaid_amount\"] / (wallet_df[\"borrow_amount\"] + 1e-6)\n",
        "wallet_df[\"liquidation_risk\"] = wallet_df[\"liquidation_count\"] / (wallet_df[\"total_tx\"] + 1e-6)\n",
        "\n",
        "# Normalize features\n",
        "scaler = MinMaxScaler()\n",
        "\n",
        "wallet_df[\"norm_repay\"] = scaler.fit_transform(wallet_df[[\"repay_ratio\"]])\n",
        "wallet_df[\"norm_liquidation\"] = 1 - scaler.fit_transform(wallet_df[[\"liquidation_risk\"]])  # invert: lower risk is better\n",
        "wallet_df[\"norm_tx\"] = scaler.fit_transform(wallet_df[[\"total_tx\"]])\n",
        "wallet_df[\"norm_borrow\"] = scaler.fit_transform(wallet_df[[\"borrow_amount\"]])\n",
        "\n",
        "# Weighted sum\n",
        "wallet_df[\"score_raw\"] = (\n",
        "    (wallet_df[\"norm_repay\"] * 0.4) +\n",
        "    (wallet_df[\"norm_liquidation\"] * 0.3) +\n",
        "    (wallet_df[\"norm_tx\"] * 0.2) +\n",
        "    (wallet_df[\"norm_borrow\"] * 0.1)\n",
        ")\n",
        "\n",
        "# Rescale to 0–1000\n",
        "wallet_df[\"credit_score\"] = scaler.fit_transform(wallet_df[[\"score_raw\"]]) * 1000\n",
        "wallet_df[\"credit_score\"] = wallet_df[\"credit_score\"].round(2)\n",
        "\n",
        "# Top 10 scores\n",
        "wallet_df_sorted = wallet_df[[\"wallet\", \"credit_score\"]].sort_values(by=\"credit_score\", ascending=False)\n",
        "wallet_df_sorted.head(10)"
      ],
      "metadata": {
        "id": "3Gzp4i772SPO"
      },
      "execution_count": null,
      "outputs": []
    }
  ]
}