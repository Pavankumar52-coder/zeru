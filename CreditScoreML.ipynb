{
  "nbformat": 4,
  "nbformat_minor": 0,
  "metadata": {
    "colab": {
      "provenance": []
    },
    "kernelspec": {
      "name": "python3",
      "display_name": "Python 3"
    },
    "language_info": {
      "name": "python"
    }
  },
  "cells": [
    {
      "cell_type": "code",
      "execution_count": null,
      "metadata": {
        "id": "LuX-_ZzyoBbN"
      },
      "outputs": [],
      "source": [
        "# Uploading data to colab notebook\n",
        "from google.colab import files\n",
        "u = files.upload()"
      ]
    },
    {
      "cell_type": "code",
      "source": [
        "# Using pandas to load data into dataframe\n",
        "import pandas as pd\n",
        "df = pd.read_json(\"user-wallet-transactions.json\")"
      ],
      "metadata": {
        "id": "xpfSCo8ItTgn"
      },
      "execution_count": 22,
      "outputs": []
    },
    {
      "cell_type": "code",
      "source": [
        "df.head(5)"
      ],
      "metadata": {
        "id": "lbjT8yXKtixE"
      },
      "execution_count": null,
      "outputs": []
    },
    {
      "cell_type": "code",
      "source": [
        "df.info()"
      ],
      "metadata": {
        "id": "_SDWlKwZ6NYF"
      },
      "execution_count": null,
      "outputs": []
    },
    {
      "cell_type": "code",
      "source": [
        "df.columns"
      ],
      "metadata": {
        "id": "-34qo8f36Rge"
      },
      "execution_count": null,
      "outputs": []
    },
    {
      "cell_type": "code",
      "source": [
        "# Parsing action data if it's a string\n",
        "import ast\n",
        "def safe_parse_action_data(x):\n",
        "    if pd.isnull(x):\n",
        "        return {}\n",
        "    if isinstance(x, str):\n",
        "        try:\n",
        "            return ast.literal_eval(x)\n",
        "        except:\n",
        "            return {}\n",
        "    return x  # already a dict\n",
        "\n",
        "df['actionData'] = df['actionData'].apply(safe_parse_action_data)"
      ],
      "metadata": {
        "id": "cHxvX7hbvGWA"
      },
      "execution_count": 26,
      "outputs": []
    },
    {
      "cell_type": "code",
      "source": [
        "# Feature Engineering by Wallet\n",
        "from tqdm import tqdm\n",
        "\n",
        "wallets = df['userWallet'].unique()\n",
        "rows = []\n",
        "\n",
        "for wallet in tqdm(wallets):\n",
        "    user_df = df[df['userWallet'] == wallet]\n",
        "\n",
        "    total_tx = len(user_df)\n",
        "    deposit_count = 0\n",
        "    borrow_count = 0\n",
        "    repay_count = 0\n",
        "    redeem_count = 0\n",
        "    liquidation_count = 0\n",
        "    total_amount = 0\n",
        "    borrow_amount = 0\n",
        "    repaid_amount = 0\n",
        "\n",
        "    for idx, row in user_df.iterrows():\n",
        "        action = str(row[\"action\"]).lower()\n",
        "        data = row[\"actionData\"]\n",
        "        amount = float(data.get(\"amount\", 0))\n",
        "\n",
        "        total_amount += amount\n",
        "\n",
        "        if action == \"deposit\":\n",
        "            deposit_count += 1\n",
        "        elif action == \"borrow\":\n",
        "            borrow_count += 1\n",
        "            borrow_amount += amount\n",
        "        elif action == \"repay\":\n",
        "            repay_count += 1\n",
        "            repaid_amount += amount\n",
        "        elif action == \"redeemunderlying\":\n",
        "            redeem_count += 1\n",
        "        elif action == \"liquidationcall\":\n",
        "            liquidation_count += 1\n",
        "\n",
        "    rows.append({\n",
        "        \"wallet\": wallet,\n",
        "        \"total_tx\": total_tx,\n",
        "        \"deposit_count\": deposit_count,\n",
        "        \"borrow_count\": borrow_count,\n",
        "        \"repay_count\": repay_count,\n",
        "        \"redeem_count\": redeem_count,\n",
        "        \"liquidation_count\": liquidation_count,\n",
        "        \"total_amount\": total_amount,\n",
        "        \"borrow_amount\": borrow_amount,\n",
        "        \"repaid_amount\": repaid_amount\n",
        "    })\n",
        "\n",
        "wallet_df = pd.DataFrame(rows)\n",
        "wallet_df.head()"
      ],
      "metadata": {
        "id": "y3OFqV4_1tbk"
      },
      "execution_count": null,
      "outputs": []
    },
    {
      "cell_type": "code",
      "source": [
        "# Calculating sand assigning credit score\n",
        "from sklearn.preprocessing import MinMaxScaler\n",
        "import numpy as np\n",
        "\n",
        "# Avoid divide-by-zero\n",
        "wallet_df[\"repay_ratio\"] = wallet_df[\"repaid_amount\"] / (wallet_df[\"borrow_amount\"] + 1e-6)\n",
        "wallet_df[\"liquidation_risk\"] = wallet_df[\"liquidation_count\"] / (wallet_df[\"total_tx\"] + 1e-6)\n",
        "\n",
        "# Normalize features\n",
        "scaler = MinMaxScaler()\n",
        "\n",
        "wallet_df[\"norm_repay\"] = scaler.fit_transform(wallet_df[[\"repay_ratio\"]])\n",
        "wallet_df[\"norm_liquidation\"] = 1 - scaler.fit_transform(wallet_df[[\"liquidation_risk\"]])  # invert: lower risk is better\n",
        "wallet_df[\"norm_tx\"] = scaler.fit_transform(wallet_df[[\"total_tx\"]])\n",
        "wallet_df[\"norm_borrow\"] = scaler.fit_transform(wallet_df[[\"borrow_amount\"]])\n",
        "\n",
        "# Weighted sum\n",
        "wallet_df[\"score_raw\"] = (\n",
        "    (wallet_df[\"norm_repay\"] * 0.4) +\n",
        "    (wallet_df[\"norm_liquidation\"] * 0.3) +\n",
        "    (wallet_df[\"norm_tx\"] * 0.2) +\n",
        "    (wallet_df[\"norm_borrow\"] * 0.1)\n",
        ")\n",
        "\n",
        "# Rescale to 0–1000\n",
        "wallet_df[\"credit_score\"] = scaler.fit_transform(wallet_df[[\"score_raw\"]]) * 1000\n",
        "wallet_df[\"credit_score\"] = wallet_df[\"credit_score\"].round(2)\n",
        "\n",
        "# Top 10 scores\n",
        "wallet_df_sorted = wallet_df[[\"wallet\", \"credit_score\"]].sort_values(by=\"credit_score\", ascending=False)\n",
        "wallet_df_sorted.head(10)"
      ],
      "metadata": {
        "id": "3Gzp4i772SPO"
      },
      "execution_count": null,
      "outputs": []
    },
    {
      "cell_type": "code",
      "source": [
        "# Save and Download the Scores\n",
        "output_file = \"wallet_credit_scores.csv\"\n",
        "wallet_df_sorted.to_csv(output_file, index=False)\n",
        "\n",
        "from google.colab import files\n",
        "files.download(output_file)"
      ],
      "metadata": {
        "colab": {
          "base_uri": "https://localhost:8080/",
          "height": 17
        },
        "id": "M1IwHZIQ8p9a",
        "outputId": "41242596-0b58-409c-f825-71bca8212677"
      },
      "execution_count": 30,
      "outputs": [
        {
          "output_type": "display_data",
          "data": {
            "text/plain": [
              "<IPython.core.display.Javascript object>"
            ],
            "application/javascript": [
              "\n",
              "    async function download(id, filename, size) {\n",
              "      if (!google.colab.kernel.accessAllowed) {\n",
              "        return;\n",
              "      }\n",
              "      const div = document.createElement('div');\n",
              "      const label = document.createElement('label');\n",
              "      label.textContent = `Downloading \"${filename}\": `;\n",
              "      div.appendChild(label);\n",
              "      const progress = document.createElement('progress');\n",
              "      progress.max = size;\n",
              "      div.appendChild(progress);\n",
              "      document.body.appendChild(div);\n",
              "\n",
              "      const buffers = [];\n",
              "      let downloaded = 0;\n",
              "\n",
              "      const channel = await google.colab.kernel.comms.open(id);\n",
              "      // Send a message to notify the kernel that we're ready.\n",
              "      channel.send({})\n",
              "\n",
              "      for await (const message of channel.messages) {\n",
              "        // Send a message to notify the kernel that we're ready.\n",
              "        channel.send({})\n",
              "        if (message.buffers) {\n",
              "          for (const buffer of message.buffers) {\n",
              "            buffers.push(buffer);\n",
              "            downloaded += buffer.byteLength;\n",
              "            progress.value = downloaded;\n",
              "          }\n",
              "        }\n",
              "      }\n",
              "      const blob = new Blob(buffers, {type: 'application/binary'});\n",
              "      const a = document.createElement('a');\n",
              "      a.href = window.URL.createObjectURL(blob);\n",
              "      a.download = filename;\n",
              "      div.appendChild(a);\n",
              "      a.click();\n",
              "      div.remove();\n",
              "    }\n",
              "  "
            ]
          },
          "metadata": {}
        },
        {
          "output_type": "display_data",
          "data": {
            "text/plain": [
              "<IPython.core.display.Javascript object>"
            ],
            "application/javascript": [
              "download(\"download_73253ace-2e1e-4aac-ab18-ecf0557bd51a\", \"wallet_credit_scores.csv\", 174803)"
            ]
          },
          "metadata": {}
        }
      ]
    },
    {
      "cell_type": "code",
      "metadata": {
        "id": "9d7b9a7e"
      },
      "source": [
        "import pandas as pd\n",
        "import matplotlib.pyplot as plt\n",
        "\n",
        "# Load the data from the CSV file\n",
        "output_file = \"wallet_credit_scores.csv\"\n",
        "wallet_scores_from_csv = pd.read_csv(output_file)\n",
        "\n",
        "# Plot the histogram of credit scores\n",
        "plt.figure(figsize=(12, 6))\n",
        "bins = list(range(0, 1100, 100))  # 0 to 1000 in steps of 100\n",
        "plt.hist(wallet_scores_from_csv['credit_score'], bins=bins, color='skyblue', edgecolor='black')\n",
        "plt.title('Wallet Credit Score Distribution', fontsize=16)\n",
        "plt.xlabel('Score Range', fontsize=14)\n",
        "plt.ylabel('Number of Wallets', fontsize=14)\n",
        "plt.grid(axis='y', linestyle='--', alpha=0.7)\n",
        "plt.xticks(bins)\n",
        "plt.show()"
      ],
      "execution_count": null,
      "outputs": []
    }
  ]
}